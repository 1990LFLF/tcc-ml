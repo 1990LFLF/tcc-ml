{
 "cells": [
  {
   "cell_type": "markdown",
   "metadata": {},
   "source": [
    "## Scraping"
   ]
  },
  {
   "cell_type": "code",
   "execution_count": 10,
   "metadata": {},
   "outputs": [],
   "source": [
    "#source = requests.get('http://localhost:8080/ui/termos').text\n",
    "from selenium import webdriver\n",
    "import time"
   ]
  },
  {
   "cell_type": "code",
   "execution_count": 52,
   "metadata": {},
   "outputs": [
    {
     "name": "stdout",
     "output_type": "stream",
     "text": [
      "https://www.siteexemplodeanuncios.com.br/imoveis-aluguel-regiao-1-df.html\n",
      "https://www.siteexemplodeanuncios.com.br/imoveis-aluguel-regiao-1-df-pagina-2.html\n",
      "https://www.siteexemplodeanuncios.com.br/imoveis-aluguel-regiao-1-df-pagina-3.html\n",
      "https://www.siteexemplodeanuncios.com.br/imoveis-aluguel-regiao-1-df-pagina-4.html\n",
      "https://www.siteexemplodeanuncios.com.br/imoveis-aluguel-regiao-2-df.html\n",
      "https://www.siteexemplodeanuncios.com.br/imoveis-aluguel-regiao-2-df-pagina-2.html\n",
      "https://www.siteexemplodeanuncios.com.br/imoveis-aluguel-regiao-2-df-pagina-3.html\n",
      "https://www.siteexemplodeanuncios.com.br/imoveis-aluguel-regiao-2-df-pagina-4.html\n"
     ]
    }
   ],
   "source": [
    "driver=webdriver.Chrome('D:\\\\dev\\\\projetos\\\\tcc_data_science\\\\chromedriver.exe')\n",
    "regioes = [\"regiao-1\", \"regiao-2\"]\n",
    "for regiao in regioes:\n",
    "    for i in range(1,5):\n",
    "        time.sleep(0.5)\n",
    "        if i==1:\n",
    "#             driver.get(f'https://www.wimoveis.com.br/imoveis-aluguel-{regiao}-df.html')\n",
    "            print(f'https://www.siteexemplodeanuncios.com.br/imoveis-aluguel-{regiao}-df.html')\n",
    "        else:\n",
    "#             driver.get(f'https://www.wimoveis.com.br/imoveis-aluguel-{regiao}-df-pagina-{i}.html')\n",
    "            print(f'https://www.siteexemplodeanuncios.com.br/imoveis-aluguel-{regiao}-df-pagina-{i}.html')\n",
    "#         html = driver.page_source\n",
    "#         f = open(f'{regiao}_page{i}.html', \"a\")\n",
    "#         f.write(html)\n",
    "#         f.close()"
   ]
  },
  {
   "cell_type": "markdown",
   "metadata": {},
   "source": [
    "## Beautiful Soup - open file and commands"
   ]
  },
  {
   "cell_type": "code",
   "execution_count": 200,
   "metadata": {},
   "outputs": [],
   "source": [
    "from bs4 import BeautifulSoup\n",
    "import os\n",
    "import requests\n",
    "import re\n",
    "import datetime"
   ]
  },
  {
   "cell_type": "code",
   "execution_count": 216,
   "metadata": {},
   "outputs": [
    {
     "name": "stdout",
     "output_type": "stream",
     "text": [
      "quantidade de cards encontrados:  21\n",
      "'NoneType' object has no attribute 'text'\n",
      "'NoneType' object has no attribute 'text'\n",
      "'NoneType' object has no attribute 'text'\n",
      "quantidade de cards encontrados:  21\n",
      "'NoneType' object has no attribute 'text'\n"
     ]
    }
   ],
   "source": [
    "#arquivo para logar execução da extração dos dados para eventual verificação\n",
    "log = open(f'execution_log.txt', \"a\", encoding=\"utf-8\")\n",
    "log.write('------------------------------------------------------------------------\\n')\n",
    "log.write(f\"inicio_execucao_{datetime.datetime.now().strftime('%Y%m%d_%H%M%S')}\\n\")\n",
    "\n",
    "dataset = open(f'dataset.csv', \"a\", encoding=\"utf-8\")\n",
    "dataset.write(\"regiao,area,quartos,banheiros,garagens,condominio,aluguel\\n\")\n",
    "\n",
    "# assign directory\n",
    "directory = 'data_samples'\n",
    "\n",
    "for filename in os.listdir(directory):\n",
    "    f = os.path.join(directory, filename)\n",
    "    if os.path.isfile(f):\n",
    "        with open(f) as html_file:\n",
    "            soup = BeautifulSoup(html_file, 'lxml')\n",
    "        log.write(f\"filename: {f}\\n\")    \n",
    "        propertiesCards = soup.find_all('div', class_='postingCardInfo')\n",
    "        print(\"quantidade de cards encontrados: \", len(propertiesCards))\n",
    "        # print(\"example: \\n\", propertiesCards[0])\n",
    "        for index, apto in enumerate(propertiesCards):\n",
    "            log.write(f\"index: {index}\\n\")\n",
    "            preco = ''\n",
    "            cond = ''\n",
    "            area = ''\n",
    "            beds = ''\n",
    "            baths = ''\n",
    "            garages = ''\n",
    "            try:\n",
    "                log.write(f\"in: {apto.find(class_='firstPrice').text}\\n\")\n",
    "                preco = re.search(r'\\d+\\.?\\d+', apto.find(class_=\"firstPrice\").text).group(0).replace('.', '')\n",
    "                log.write(f\"out: {preco}\\n\")\n",
    "            except Exception as e:\n",
    "                print(e)\n",
    "            try:\n",
    "                log.write(f\"in: {apto.find(class_='postingCardExpenses').text}\\n\")\n",
    "                cond = re.search(r'\\d+\\.?\\d+', apto.find(class_=\"postingCardExpenses\").text).group(0).replace('.', '')\n",
    "                log.write(f\"out: {cond}\\n\")\n",
    "            except Exception as e:\n",
    "                print(e)\n",
    "            mainFeatures = apto.find_all('ul', class_=\"postingCardMainFeatures\")\n",
    "            for item in mainFeatures:\n",
    "                listOfLis = item.find_all('li')\n",
    "                for li in listOfLis:\n",
    "                    if li.find('i', class_=\"iconArea\"):\n",
    "                        try:\n",
    "                            log.write(f\"in: {li.text}\\n\")\n",
    "                            area = re.search(r'\\d+\\.?\\d?', li.text).group(0).replace('.', '')\n",
    "                            log.write(f\"out: {area}\\n\")\n",
    "                        except Exception as e:\n",
    "                            print(e)                \n",
    "                    if li.find('i', class_=\"iconBathrooms\"):\n",
    "                        try:\n",
    "                            log.write(f\"in: {li.text}\\n\")\n",
    "                            baths = re.search(r'\\d+\\.?\\d?', li.text).group(0).replace('.', '')\n",
    "                            log.write(f\"out: {baths}\\n\")\n",
    "                        except Exception as e:\n",
    "                            print(e)\n",
    "                    if li.find('i', class_=\"iconBedrooms\"):\n",
    "                        try:\n",
    "                            log.write(f\"in: {li.text}\\n\")\n",
    "                            beds = re.search(r'\\d+\\.?\\d?', li.text).group(0).replace('.', '')\n",
    "                            log.write(f\"out: {baths}\\n\")\n",
    "                        except Exception as e:\n",
    "                            print(e)\n",
    "                    if li.find('i', class_=\"iconGarage\"):\n",
    "                        try:\n",
    "                            log.write(f\"in: {li.text}\\n\")\n",
    "                            garages = re.search(r'\\d+\\.?\\d?', li.text).group(0).replace('.', '') \n",
    "                            log.write(f\"out: {garages}\\n\")\n",
    "                        except Exception as e:\n",
    "                            print(e)                     \n",
    "                dataset.write(f'{filename.split(\"_\")[0]},{area},{beds},{baths},{garages},{cond},{preco}\\n') \n",
    "\n",
    "log.write(f\"fim_execucao_{datetime.datetime.now().strftime('%Y%m%d_%H%M%S')}\\n\")\n",
    "log.close()\n",
    "dataset.close()"
   ]
  },
  {
   "cell_type": "markdown",
   "metadata": {},
   "source": [
    "## Generating dummy data for tests"
   ]
  },
  {
   "cell_type": "code",
   "execution_count": 53,
   "metadata": {},
   "outputs": [],
   "source": [
    "import random\n",
    "with open('aptos.csv', 'w') as myFile:\n",
    "    myFile.write('area,bedrooms,baths,garage,rent\\n')\n",
    "    for i in range(1, 1001):\n",
    "        flat = [random.choice([50, 60, 70, 100]),random.choice([1, 2, 4]),random.choice([1, 2]),random.choice([0,1])]\n",
    "        rent = flat[0]*(random.choice([22.3, 25.7, 31])) + flat[1]*(random.choice([322.3, 325.7, 280])) + flat[2]*150 + flat[3]*55 - 320\n",
    "        myFile.write(f'{flat[0]},{flat[1]},{flat[2]},{flat[3]},{rent}\\n')"
   ]
  },
  {
   "cell_type": "code",
   "execution_count": 54,
   "metadata": {},
   "outputs": [],
   "source": [
    "import pandas as pd\n",
    "from sklearn.model_selection import train_test_split\n",
    "from sklearn.linear_model import LinearRegression"
   ]
  },
  {
   "cell_type": "code",
   "execution_count": 55,
   "metadata": {},
   "outputs": [],
   "source": [
    "df = pd.read_csv('aptos.csv')"
   ]
  },
  {
   "cell_type": "code",
   "execution_count": 56,
   "metadata": {},
   "outputs": [
    {
     "name": "stdout",
     "output_type": "stream",
     "text": [
      "<class 'pandas.core.frame.DataFrame'>\n",
      "RangeIndex: 1000 entries, 0 to 999\n",
      "Data columns (total 5 columns):\n",
      " #   Column    Non-Null Count  Dtype  \n",
      "---  ------    --------------  -----  \n",
      " 0   area      1000 non-null   int64  \n",
      " 1   bedrooms  1000 non-null   int64  \n",
      " 2   baths     1000 non-null   int64  \n",
      " 3   garage    1000 non-null   int64  \n",
      " 4   rent      1000 non-null   float64\n",
      "dtypes: float64(1), int64(4)\n",
      "memory usage: 39.2 KB\n"
     ]
    }
   ],
   "source": [
    "df.info()"
   ]
  },
  {
   "cell_type": "code",
   "execution_count": 57,
   "metadata": {},
   "outputs": [
    {
     "data": {
      "image/png": "[encoded data removed]",
      "text/plain": [
       "<Figure size 432x288 with 1 Axes>"
      ]
     },
     "metadata": {
      "needs_background": "light"
     },
     "output_type": "display_data"
    },
    {
     "data": {
      "image/png": "[encoded data removed]",
      "text/plain": [
       "<Figure size 432x288 with 1 Axes>"
      ]
     },
     "metadata": {
      "needs_background": "light"
     },
     "output_type": "display_data"
    },
    {
     "data": {
      "image/png": "[encoded data removed]",
      "text/plain": [
       "<Figure size 432x288 with 1 Axes>"
      ]
     },
     "metadata": {
      "needs_background": "light"
     },
     "output_type": "display_data"
    },
    {
     "data": {
      "image/png": "[encoded data removed]",
      "text/plain": [
       "<Figure size 432x288 with 1 Axes>"
      ]
     },
     "metadata": {
      "needs_background": "light"
     },
     "output_type": "display_data"
    },
    {
     "data": {
      "image/png": "[encoded data removed]",
      "text/plain": [
       "<Figure size 432x288 with 1 Axes>"
      ]
     },
     "metadata": {
      "needs_background": "light"
     },
     "output_type": "display_data"
    }
   ],
   "source": [
    "import matplotlib.pyplot as plt\n",
    "\n",
    "for column in df:\n",
    "    plt.figure()\n",
    "    df.boxplot([column])"
   ]
  },
  {
   "cell_type": "code",
   "execution_count": 58,
   "metadata": {},
   "outputs": [],
   "source": [
    "X = df.iloc[:,0:4]"
   ]
  },
  {
   "cell_type": "code",
   "execution_count": 59,
   "metadata": {},
   "outputs": [],
   "source": [
    "y = df.iloc[:, -1]"
   ]
  },
  {
   "cell_type": "code",
   "execution_count": 60,
   "metadata": {},
   "outputs": [
    {
     "data": {
      "text/plain": [
       "(     area  bedrooms  baths  garage\n",
       " 0      70         4      1       0\n",
       " 1      70         4      2       0\n",
       " 2      70         1      2       0\n",
       " 3      60         2      1       1\n",
       " 4      50         2      1       1\n",
       " ..    ...       ...    ...     ...\n",
       " 995   100         2      1       0\n",
       " 996    70         2      1       1\n",
       " 997   100         4      1       1\n",
       " 998    70         1      1       0\n",
       " 999    70         1      1       1\n",
       " \n",
       " [1000 rows x 4 columns],\n",
       " 0      2931.8\n",
       " 1      3270.0\n",
       " 2      2059.0\n",
       " 3      2071.6\n",
       " 4      1821.4\n",
       "         ...  \n",
       " 995    3044.6\n",
       " 996    2244.0\n",
       " 997    4287.8\n",
       " 998    1909.0\n",
       " 999    2006.3\n",
       " Name: rent, Length: 1000, dtype: float64)"
      ]
     },
     "execution_count": 60,
     "metadata": {},
     "output_type": "execute_result"
    }
   ],
   "source": [
    "X, y"
   ]
  },
  {
   "cell_type": "code",
   "execution_count": 61,
   "metadata": {},
   "outputs": [],
   "source": [
    "X_train, X_test, y_train, y_test = train_test_split(X, y, random_state=42)"
   ]
  },
  {
   "cell_type": "code",
   "execution_count": 62,
   "metadata": {},
   "outputs": [
    {
     "name": "stdout",
     "output_type": "stream",
     "text": [
      "lr.coef_:  [ 25.89640156 313.92888452 131.33255003  69.96500626]\n",
      "lr.intercept_):  -283.28974750957013\n"
     ]
    }
   ],
   "source": [
    "lr = LinearRegression().fit(X_train, y_train)\n",
    "print(\"lr.coef_: \", lr.coef_)\n",
    "print(\"lr.intercept_): \", lr.intercept_)"
   ]
  },
  {
   "cell_type": "code",
   "execution_count": 63,
   "metadata": {},
   "outputs": [
    {
     "name": "stdout",
     "output_type": "stream",
     "text": [
      "training score:\n",
      " 0.8564338418687985\n",
      "test score\n",
      " 0.8438631426315073\n"
     ]
    }
   ],
   "source": [
    "print(\"training score:\\n\", lr.score(X_train, y_train))\n",
    "print(\"test score\\n\", lr.score(X_test, y_test))\n"
   ]
  },
  {
   "cell_type": "markdown",
   "metadata": {},
   "source": [
    "## Ridge"
   ]
  },
  {
   "cell_type": "code",
   "execution_count": 64,
   "metadata": {},
   "outputs": [],
   "source": [
    "from sklearn.linear_model import Ridge"
   ]
  },
  {
   "cell_type": "code",
   "execution_count": 65,
   "metadata": {},
   "outputs": [
    {
     "name": "stdout",
     "output_type": "stream",
     "text": [
      "lr.coef_:  [ 25.89640156 313.92888452 131.33255003  69.96500626]\n",
      "lr.intercept_):  -283.28974750957013\n"
     ]
    }
   ],
   "source": [
    "ridge = Ridge().fit(X_train, y_train)\n",
    "print(\"lr.coef_: \", lr.coef_)\n",
    "print(\"lr.intercept_): \", lr.intercept_)"
   ]
  },
  {
   "cell_type": "code",
   "execution_count": 66,
   "metadata": {},
   "outputs": [
    {
     "name": "stdout",
     "output_type": "stream",
     "text": [
      "training score:\n",
      " 0.8564332723265946\n",
      "test score\n",
      " 0.8438444497476394\n"
     ]
    }
   ],
   "source": [
    "print(\"training score:\\n\", ridge.score(X_train, y_train))\n",
    "print(\"test score\\n\", ridge.score(X_test, y_test))"
   ]
  }
 ],
 "metadata": {
  "kernelspec": {
   "display_name": "Python 3",
   "language": "python",
   "name": "python3"
  },
  "language_info": {
   "codemirror_mode": {
    "name": "ipython",
    "version": 3
   },
   "file_extension": ".py",
   "mimetype": "text/x-python",
   "name": "python",
   "nbconvert_exporter": "python",
   "pygments_lexer": "ipython3",
   "version": "3.7.3"
  }
 },
 "nbformat": 4,
 "nbformat_minor": 4
}
